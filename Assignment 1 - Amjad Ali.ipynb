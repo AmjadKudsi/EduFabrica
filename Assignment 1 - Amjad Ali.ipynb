{
 "cells": [
  {
   "cell_type": "markdown",
   "metadata": {},
   "source": [
    "<h2 align=center> You can be a Python Developer!</h2>\n",
    "<code>Assignment 1 completed</code>"
   ]
  },
  {
   "cell_type": "markdown",
   "metadata": {},
   "source": [
    "**Write a Python Program to calculate the length of a string given**\n",
    "\n",
    "string  = 'Goods and Prices'"
   ]
  },
  {
   "cell_type": "code",
   "execution_count": 1,
   "metadata": {},
   "outputs": [
    {
     "name": "stdout",
     "output_type": "stream",
     "text": [
      "Length of the given string is: 16\n"
     ]
    }
   ],
   "source": [
    "string = 'Goods and Prices'\n",
    "print('Length of the given string is:',len(string))"
   ]
  },
  {
   "cell_type": "markdown",
   "metadata": {},
   "source": [
    "**How would you check the Python version you are using in your system ?. Write the code.**"
   ]
  },
  {
   "cell_type": "code",
   "execution_count": 18,
   "metadata": {},
   "outputs": [
    {
     "name": "stdout",
     "output_type": "stream",
     "text": [
      "Python version: 3.7.6 (default, Jan  8 2020, 20:23:39) [MSC v.1916 64 bit (AMD64)]\n"
     ]
    }
   ],
   "source": [
    "import sys \n",
    "print('Python version:',sys.version)"
   ]
  },
  {
   "cell_type": "markdown",
   "metadata": {},
   "source": [
    "**Take the first name and last name from the user and get the last name printed first and the first in the last.**"
   ]
  },
  {
   "cell_type": "code",
   "execution_count": 6,
   "metadata": {},
   "outputs": [
    {
     "name": "stdout",
     "output_type": "stream",
     "text": [
      "Enter your name: Sachin Tendulkar\n",
      "Tendulkar Sachin\n"
     ]
    }
   ],
   "source": [
    "f_name, l_name = input(\"Enter your name: \").split()\n",
    "print(l_name,f_name)"
   ]
  },
  {
   "cell_type": "markdown",
   "metadata": {},
   "source": [
    "**Lets Say num = 5 , Now calculate the the vaule of ( num  - cube + num - square + num ) using Operators**"
   ]
  },
  {
   "cell_type": "code",
   "execution_count": 7,
   "metadata": {},
   "outputs": [
    {
     "name": "stdout",
     "output_type": "stream",
     "text": [
      "-135\n"
     ]
    }
   ],
   "source": [
    "num = 5\n",
    "square = num*num\n",
    "cube = num*num*num\n",
    "\n",
    "print(num - cube + num - square + num)"
   ]
  },
  {
   "cell_type": "markdown",
   "metadata": {},
   "source": [
    "**Take 3 integer inputs from the user and return the sum of all the numbers to the user.**"
   ]
  },
  {
   "cell_type": "code",
   "execution_count": 8,
   "metadata": {},
   "outputs": [
    {
     "name": "stdout",
     "output_type": "stream",
     "text": [
      "Input number 1: 1\n",
      "Input number 2: 2\n",
      "Input number 3: 3\n",
      "Sum = 6\n"
     ]
    }
   ],
   "source": [
    "num1 = int(input(\"Input number 1: \"))\n",
    "num2 = int(input(\"Input number 2: \"))\n",
    "num3 = int(input(\"Input number 3: \"))\n",
    "\n",
    "print('Sum =',num1+num2+num3)"
   ]
  },
  {
   "cell_type": "markdown",
   "metadata": {},
   "source": [
    "**Suppose x and y are the two variables having some values, and x-y = 5 and so does the x + y . Then Find the value of ( x-square  -   y-square ).**"
   ]
  },
  {
   "cell_type": "code",
   "execution_count": 11,
   "metadata": {},
   "outputs": [
    {
     "name": "stdout",
     "output_type": "stream",
     "text": [
      "x = 5 y = 0\n"
     ]
    }
   ],
   "source": [
    "import numpy as np\n",
    "\n",
    "A = np.array([[1,-1], [1, 1]])\n",
    "b = np.array([5,5])\n",
    "x = np.linalg.solve(A, b)\n",
    "print('x =',int(x[0]),'y =',int(x[1]))"
   ]
  },
  {
   "cell_type": "markdown",
   "metadata": {},
   "source": [
    "**Convert the following types to Integer Datatype**\n",
    "\n",
    "**Numbers :** 45.3, -0, 2.85, 05.45, 23.6"
   ]
  },
  {
   "cell_type": "code",
   "execution_count": 15,
   "metadata": {},
   "outputs": [
    {
     "data": {
      "text/plain": [
       "[45, 0, 2, 5, 23]"
      ]
     },
     "execution_count": 15,
     "metadata": {},
     "output_type": "execute_result"
    }
   ],
   "source": [
    "float_nums = [45.3, -0, 2.85, 05.45, 23.6]\n",
    "int_nums = []\n",
    "\n",
    "for i in float_nums:\n",
    "    int_nums.append(int(i))\n",
    "int_nums"
   ]
  },
  {
   "cell_type": "markdown",
   "metadata": {},
   "source": [
    "**Which of the following is a variable and which of the following is a String ?. Discuss**"
   ]
  },
  {
   "cell_type": "markdown",
   "metadata": {},
   "source": [
    "- The sentence <code>'Artificial Intelligence was first coined in the year ='</code> is actually a single string, and each and every letter,symbol as well as empty spaces are individual characters of the string. <br><br>\n",
    "- Whereas, <code>'variable'</code> is a variable with value 20, as it is defined with value below using assignment operator."
   ]
  },
  {
   "cell_type": "markdown",
   "metadata": {},
   "source": [
    "**Name the Data Types learnt till now in Python**"
   ]
  },
  {
   "cell_type": "markdown",
   "metadata": {},
   "source": [
    "### Data Types learnt so far:\n",
    "- string\n",
    "- integer\n",
    "- float\n",
    "- complex"
   ]
  },
  {
   "cell_type": "markdown",
   "metadata": {},
   "source": [
    "**What does the variable contain after the following code runs?**"
   ]
  },
  {
   "cell_type": "raw",
   "metadata": {},
   "source": [
    "variable = 20\n",
    "variable + 1 "
   ]
  },
  {
   "cell_type": "code",
   "execution_count": 24,
   "metadata": {},
   "outputs": [
    {
     "name": "stdout",
     "output_type": "stream",
     "text": [
      "variable + 1 = 21\n",
      "variable = 20\n",
      "\n",
      "The value is still the same, because the assignment operator is not used to update the value\n"
     ]
    }
   ],
   "source": [
    "variable = 20\n",
    "print('variable + 1 =',variable + 1) \n",
    "print('variable =',variable)\n",
    "print(\"\\nThe value is still the same, because the assignment operator is not used to update the value\")"
   ]
  },
  {
   "cell_type": "markdown",
   "metadata": {},
   "source": [
    "**What will the two expressions will evaluate**?"
   ]
  },
  {
   "cell_type": "raw",
   "metadata": {},
   "source": [
    "'expression_1' + 'expression_2'\n",
    "'expression_1' * 3"
   ]
  },
  {
   "cell_type": "code",
   "execution_count": 25,
   "metadata": {},
   "outputs": [
    {
     "name": "stdout",
     "output_type": "stream",
     "text": [
      "expression_1expression_2\n",
      "expression_1expression_1expression_1\n"
     ]
    }
   ],
   "source": [
    "print('expression_1' + 'expression_2')\n",
    "print('expression_1' * 3)"
   ]
  },
  {
   "cell_type": "markdown",
   "metadata": {},
   "source": [
    "**Why x is a Valid variable and 100 is invalid ?**"
   ]
  },
  {
   "cell_type": "markdown",
   "metadata": {},
   "source": [
    "Because python doesn't allow any number or a symbol at the start of the variable name, but only a character. Hence if we still want to use 100 as a variable, we need to put a character at the start, eg. <code> a100 </code>"
   ]
  },
  {
   "cell_type": "code",
   "execution_count": 26,
   "metadata": {},
   "outputs": [
    {
     "data": {
      "text/plain": [
       "100"
      ]
     },
     "execution_count": 26,
     "metadata": {},
     "output_type": "execute_result"
    }
   ],
   "source": [
    "a100 = 100\n",
    "a100"
   ]
  },
  {
   "cell_type": "markdown",
   "metadata": {},
   "source": [
    "**Why does the statement cause an error ?**"
   ]
  },
  {
   "cell_type": "raw",
   "metadata": {},
   "source": [
    "print('Artificial Intelligence was first coined in the year = ' + 1999)"
   ]
  },
  {
   "cell_type": "markdown",
   "metadata": {},
   "source": [
    "Because in Python, concatenation is only allowed between 'int - int' or 'string - string' not 'int - string'"
   ]
  },
  {
   "cell_type": "markdown",
   "metadata": {},
   "source": [
    "Notebook created by: <a href = \"https://www.linkedin.com/in/sumitkumarshukla/\">Sumit Kumar Shukla</a>"
   ]
  }
 ],
 "metadata": {
  "kernelspec": {
   "display_name": "Python 3",
   "language": "python",
   "name": "python3"
  },
  "language_info": {
   "codemirror_mode": {
    "name": "ipython",
    "version": 3
   },
   "file_extension": ".py",
   "mimetype": "text/x-python",
   "name": "python",
   "nbconvert_exporter": "python",
   "pygments_lexer": "ipython3",
   "version": "3.7.6"
  },
  "toc": {
   "base_numbering": 1,
   "nav_menu": {},
   "number_sections": true,
   "sideBar": true,
   "skip_h1_title": false,
   "title_cell": "Table of Contents",
   "title_sidebar": "Contents",
   "toc_cell": false,
   "toc_position": {},
   "toc_section_display": true,
   "toc_window_display": false
  }
 },
 "nbformat": 4,
 "nbformat_minor": 4
}
