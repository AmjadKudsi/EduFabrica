{
 "cells": [
  {
   "cell_type": "markdown",
   "metadata": {},
   "source": [
    "## Numpy_test - Amjad Ali"
   ]
  },
  {
   "cell_type": "markdown",
   "metadata": {
    "id": "DrFSjFe9gMOv"
   },
   "source": [
    "__Multiply a 5x3 matrix by a 3x2 matrix (real matrix product)__"
   ]
  },
  {
   "cell_type": "code",
   "execution_count": null,
   "metadata": {
    "colab": {
     "base_uri": "https://localhost:8080/"
    },
    "id": "gLKb-8ubgMOx",
    "outputId": "55677d70-70c6-4bc9-9000-2090831ff70d"
   },
   "outputs": [
    {
     "data": {
      "text/plain": [
       "array([[3., 3.],\n",
       "       [3., 3.],\n",
       "       [3., 3.],\n",
       "       [3., 3.],\n",
       "       [3., 3.]])"
      ]
     },
     "execution_count": 35,
     "metadata": {
      "tags": []
     },
     "output_type": "execute_result"
    }
   ],
   "source": [
    "import numpy as np\n",
    "matrix = np.dot(np.ones((5,3)), np.ones((3,2)))\n",
    "matrix"
   ]
  },
  {
   "cell_type": "markdown",
   "metadata": {
    "id": "TN5-Aiz4gMO5"
   },
   "source": [
    "__Given a 1D array, negate all elements which are between 3 and 8, in place__"
   ]
  },
  {
   "cell_type": "code",
   "execution_count": null,
   "metadata": {
    "colab": {
     "base_uri": "https://localhost:8080/"
    },
    "id": "wzmuAdRdgMO6",
    "outputId": "d51b8e85-e150-4826-cec9-344b4452df14"
   },
   "outputs": [
    {
     "name": "stdout",
     "output_type": "stream",
     "text": [
      "[0 1 2 3 4 5 6 7 8 9]\n",
      "[-4 -5 -6 -7]\n"
     ]
    }
   ],
   "source": [
    "array = np.arange(10)\n",
    "n_array = np.negative(array[4:8])\n",
    "print(array)\n",
    "print(n_array)"
   ]
  },
  {
   "cell_type": "markdown",
   "metadata": {
    "id": "CL35Y8kTgMPC"
   },
   "source": [
    "__What are the result of the following expressions?__"
   ]
  },
  {
   "cell_type": "markdown",
   "metadata": {
    "id": "v0JRt4ANgMPC"
   },
   "source": [
    "#np.array(0) // np.array(0)\n",
    "#np.array(0) // np.array(0.) \n",
    "#np.array(0) / np.array(0) \n",
    "#np.array(0) / np.array(0.)"
   ]
  },
  {
   "cell_type": "code",
   "execution_count": null,
   "metadata": {
    "colab": {
     "base_uri": "https://localhost:8080/"
    },
    "id": "aQbxUeehgMPD",
    "outputId": "8b2f770e-0b70-41f1-b028-c2ea6434e18c"
   },
   "outputs": [
    {
     "name": "stdout",
     "output_type": "stream",
     "text": [
      "These all result in either warning or 'NaN' i.e Not a number. This happens because the answer undefined\n"
     ]
    }
   ],
   "source": [
    "print(\"These all result in either warning or 'NaN' i.e Not a number. This happens because the answer undefined\")"
   ]
  },
  {
   "cell_type": "markdown",
   "metadata": {
    "id": "JCR4vXXggMPH"
   },
   "source": [
    "__Create a 2d array with 1 on the border and 0 inside__"
   ]
  },
  {
   "cell_type": "code",
   "execution_count": null,
   "metadata": {
    "colab": {
     "base_uri": "https://localhost:8080/"
    },
    "id": "cANidYZ4gMPI",
    "outputId": "b0523245-85f4-4554-815d-ed3b55ac32cc"
   },
   "outputs": [
    {
     "data": {
      "text/plain": [
       "array([[1., 1., 1., 1., 1., 1., 1., 1., 1., 1.],\n",
       "       [1., 0., 0., 0., 0., 0., 0., 0., 0., 1.],\n",
       "       [1., 0., 0., 0., 0., 0., 0., 0., 0., 1.],\n",
       "       [1., 0., 0., 0., 0., 0., 0., 0., 0., 1.],\n",
       "       [1., 0., 0., 0., 0., 0., 0., 0., 0., 1.],\n",
       "       [1., 0., 0., 0., 0., 0., 0., 0., 0., 1.],\n",
       "       [1., 0., 0., 0., 0., 0., 0., 0., 0., 1.],\n",
       "       [1., 0., 0., 0., 0., 0., 0., 0., 0., 1.],\n",
       "       [1., 0., 0., 0., 0., 0., 0., 0., 0., 1.],\n",
       "       [1., 1., 1., 1., 1., 1., 1., 1., 1., 1.]])"
      ]
     },
     "execution_count": 23,
     "metadata": {
      "tags": []
     },
     "output_type": "execute_result"
    }
   ],
   "source": [
    "twoD = np.ones((10,10))\n",
    "twoD[1:-1,1:-1]=0\n",
    "twoD"
   ]
  },
  {
   "cell_type": "markdown",
   "metadata": {
    "id": "NBc8HP88gMPM"
   },
   "source": [
    "__Create a random array of size 30 and find the mean value__"
   ]
  },
  {
   "cell_type": "code",
   "execution_count": null,
   "metadata": {
    "colab": {
     "base_uri": "https://localhost:8080/"
    },
    "id": "wSY8jknJgMPN",
    "outputId": "4611e341-d732-4a25-e108-dc8785492f85"
   },
   "outputs": [
    {
     "name": "stdout",
     "output_type": "stream",
     "text": [
      "0.47725510444495073\n"
     ]
    }
   ],
   "source": [
    "array = np.random.random(10)\n",
    "print(array.mean())"
   ]
  },
  {
   "cell_type": "markdown",
   "metadata": {
    "id": "j4I-6vr8gMPS"
   },
   "source": [
    "__Create a 10x10 array with random values and find the minimum and maximum values__"
   ]
  },
  {
   "cell_type": "code",
   "execution_count": null,
   "metadata": {
    "colab": {
     "base_uri": "https://localhost:8080/"
    },
    "id": "I1aiF0h_gMPT",
    "outputId": "c799d199-f6e6-46d6-9434-4d83abfc5d81"
   },
   "outputs": [
    {
     "name": "stdout",
     "output_type": "stream",
     "text": [
      "Minimum value: 0.009066752816749624\n",
      "Maximum value: 0.9957635628381133\n"
     ]
    }
   ],
   "source": [
    "m = np.random.random((10,10))\n",
    "print(\"Minimum value:\",m.min())\n",
    "print(\"Maximum value:\",m.max())"
   ]
  },
  {
   "cell_type": "markdown",
   "metadata": {
    "id": "_yb2jRlEgMPa"
   },
   "source": [
    "__Create a 3x3x3 array with random values__"
   ]
  },
  {
   "cell_type": "code",
   "execution_count": null,
   "metadata": {
    "colab": {
     "base_uri": "https://localhost:8080/"
    },
    "id": "kIDOE6jYgMPa",
    "outputId": "c91635c1-c7a9-4896-a426-ad17ca67268e"
   },
   "outputs": [
    {
     "name": "stdout",
     "output_type": "stream",
     "text": [
      "[1.39552239 2.22620446 1.17142293]\n"
     ]
    }
   ],
   "source": [
    "print(np.random.uniform((3,3,3)))"
   ]
  },
  {
   "cell_type": "markdown",
   "metadata": {
    "id": "dDKE596ZgMPe"
   },
   "source": [
    "__Create a 3x3 identity matrix___"
   ]
  },
  {
   "cell_type": "code",
   "execution_count": null,
   "metadata": {
    "colab": {
     "base_uri": "https://localhost:8080/"
    },
    "id": "qw8u4nulgMPf",
    "outputId": "d85c17d1-9cb6-45c9-f160-6ad22775929d"
   },
   "outputs": [
    {
     "name": "stdout",
     "output_type": "stream",
     "text": [
      "[[1. 0. 0.]\n",
      " [0. 1. 0.]\n",
      " [0. 0. 1.]]\n"
     ]
    }
   ],
   "source": [
    "print(np.eye(3))"
   ]
  },
  {
   "cell_type": "markdown",
   "metadata": {
    "id": "BvsJLuAdgMPl"
   },
   "source": [
    "__Find indices of non­zero elements from [1,2,0,0,4,0]__"
   ]
  },
  {
   "cell_type": "code",
   "execution_count": null,
   "metadata": {
    "colab": {
     "base_uri": "https://localhost:8080/"
    },
    "id": "IB5cvz91gMPm",
    "outputId": "5c37911a-8da8-4264-e578-4a8081276d70"
   },
   "outputs": [
    {
     "data": {
      "text/plain": [
       "(array([0, 1, 4]),)"
      ]
     },
     "execution_count": 15,
     "metadata": {
      "tags": []
     },
     "output_type": "execute_result"
    }
   ],
   "source": [
    "A = [1,2,0,0,4,0]\n",
    "np.nonzero(A)"
   ]
  },
  {
   "cell_type": "markdown",
   "metadata": {
    "id": "R2KsiUhYgMPq"
   },
   "source": [
    "__Reverse a Array__"
   ]
  },
  {
   "cell_type": "code",
   "execution_count": null,
   "metadata": {
    "colab": {
     "base_uri": "https://localhost:8080/"
    },
    "id": "dDyt7klNgMPq",
    "outputId": "85967916-3695-4ddd-d2b8-1dafe7c56957"
   },
   "outputs": [
    {
     "name": "stdout",
     "output_type": "stream",
     "text": [
      "[9 8 7 6 5 4 3 2 1 0]\n"
     ]
    }
   ],
   "source": [
    "Array = np.arange(10)\n",
    "print(Array[::-1])"
   ]
  },
  {
   "cell_type": "markdown",
   "metadata": {
    "id": "8YX_PeN3gMPu"
   },
   "source": [
    "__Create a null array of size 10 but the fifth value which is 1__"
   ]
  },
  {
   "cell_type": "code",
   "execution_count": null,
   "metadata": {
    "colab": {
     "base_uri": "https://localhost:8080/"
    },
    "id": "kgdhMZQzgMPv",
    "outputId": "d4689d33-c176-4d88-8116-6a6926da2a08"
   },
   "outputs": [
    {
     "data": {
      "text/plain": [
       "array([0., 0., 0., 0., 1., 0., 0., 0., 0., 0.])"
      ]
     },
     "execution_count": 13,
     "metadata": {
      "tags": []
     },
     "output_type": "execute_result"
    }
   ],
   "source": [
    "x = np.zeros(10)\n",
    "x[4] = 1\n",
    "x"
   ]
  },
  {
   "cell_type": "markdown",
   "metadata": {
    "id": "_Uoj0squgMP0"
   },
   "source": [
    "__How to get the documentation of the numpy add function from the command line?__"
   ]
  },
  {
   "cell_type": "code",
   "execution_count": null,
   "metadata": {
    "id": "klL6Rj3ogMP0"
   },
   "outputs": [],
   "source": [
    "python -c \"import numpy; numpy.info(numpy.add)\""
   ]
  },
  {
   "cell_type": "markdown",
   "metadata": {
    "id": "PETFc7D0gMP4"
   },
   "source": [
    "__Print the numpy version and the configuration__"
   ]
  },
  {
   "cell_type": "code",
   "execution_count": null,
   "metadata": {
    "colab": {
     "base_uri": "https://localhost:8080/"
    },
    "id": "Zbkht8aAgMP5",
    "outputId": "18106cea-254e-4313-a4bd-1d3646d5a617"
   },
   "outputs": [
    {
     "name": "stdout",
     "output_type": "stream",
     "text": [
      "Numpy version: 1.18.5\n",
      "\n",
      "\n",
      "blas_mkl_info:\n",
      "  NOT AVAILABLE\n",
      "blis_info:\n",
      "  NOT AVAILABLE\n",
      "openblas_info:\n",
      "    libraries = ['openblas', 'openblas']\n",
      "    library_dirs = ['/usr/local/lib']\n",
      "    language = c\n",
      "    define_macros = [('HAVE_CBLAS', None)]\n",
      "blas_opt_info:\n",
      "    libraries = ['openblas', 'openblas']\n",
      "    library_dirs = ['/usr/local/lib']\n",
      "    language = c\n",
      "    define_macros = [('HAVE_CBLAS', None)]\n",
      "lapack_mkl_info:\n",
      "  NOT AVAILABLE\n",
      "openblas_lapack_info:\n",
      "    libraries = ['openblas', 'openblas']\n",
      "    library_dirs = ['/usr/local/lib']\n",
      "    language = c\n",
      "    define_macros = [('HAVE_CBLAS', None)]\n",
      "lapack_opt_info:\n",
      "    libraries = ['openblas', 'openblas']\n",
      "    library_dirs = ['/usr/local/lib']\n",
      "    language = c\n",
      "    define_macros = [('HAVE_CBLAS', None)]\n",
      "\n",
      "\n",
      "Numpy configuration: None\n"
     ]
    }
   ],
   "source": [
    "print(\"Numpy version:\",np.__version__)\n",
    "print()\n",
    "print()\n",
    "print(\"\\n\\nNumpy configuration:\",np.show_config())"
   ]
  },
  {
   "cell_type": "markdown",
   "metadata": {
    "id": "9Od2vmCsgMP-"
   },
   "source": [
    "__Create a vector of size 10 with values ranging from 0 to 1, both excluded__"
   ]
  },
  {
   "cell_type": "code",
   "execution_count": null,
   "metadata": {
    "colab": {
     "base_uri": "https://localhost:8080/"
    },
    "id": "V_sFx18MgMP_",
    "outputId": "1e707504-4c15-4b56-b678-d6ed0ff15a0c"
   },
   "outputs": [
    {
     "name": "stdout",
     "output_type": "stream",
     "text": [
      "[0.09090909 0.18181818 0.27272727 0.36363636 0.45454545 0.54545455\n",
      " 0.63636364 0.72727273 0.81818182 0.90909091]\n"
     ]
    }
   ],
   "source": [
    "print(np.linspace(0,1,12,endpoint=True)[1:-1])"
   ]
  },
  {
   "cell_type": "markdown",
   "metadata": {
    "id": "pgT7hl0SgMQE"
   },
   "source": [
    "__Consider two random array A and B, check if they are equal__"
   ]
  },
  {
   "cell_type": "code",
   "execution_count": null,
   "metadata": {
    "colab": {
     "base_uri": "https://localhost:8080/"
    },
    "id": "o97uoFw-gMQF",
    "outputId": "b3569203-d81a-4d9f-9573-1eb9ae59ceeb"
   },
   "outputs": [
    {
     "name": "stdout",
     "output_type": "stream",
     "text": [
      "[False False False False False False False  True False False]\n"
     ]
    }
   ],
   "source": [
    "A = np.random.randint(0,10,10)\n",
    "B = np.random.randint(0,10,10)\n",
    "print(np.equal(A,B))"
   ]
  }
 ],
 "metadata": {
  "colab": {
   "name": "Numpy Test - Amjad.ipynb",
   "provenance": []
  },
  "kernelspec": {
   "display_name": "Python 3",
   "language": "python",
   "name": "python3"
  },
  "language_info": {
   "codemirror_mode": {
    "name": "ipython",
    "version": 3
   },
   "file_extension": ".py",
   "mimetype": "text/x-python",
   "name": "python",
   "nbconvert_exporter": "python",
   "pygments_lexer": "ipython3",
   "version": "3.7.6"
  },
  "toc": {
   "base_numbering": 1,
   "nav_menu": {},
   "number_sections": true,
   "sideBar": true,
   "skip_h1_title": false,
   "title_cell": "Table of Contents",
   "title_sidebar": "Contents",
   "toc_cell": false,
   "toc_position": {},
   "toc_section_display": true,
   "toc_window_display": false
  }
 },
 "nbformat": 4,
 "nbformat_minor": 1
}
