{
 "cells": [
  {
   "cell_type": "markdown",
   "metadata": {},
   "source": [
    "Python Assignment 3 - Amjad Ali"
   ]
  },
  {
   "cell_type": "markdown",
   "metadata": {
    "colab": {},
    "colab_type": "code",
    "id": "Wqfe-xvEZvng"
   },
   "source": [
    "Q1) Write a python code to print 100% using string concatenation:"
   ]
  },
  {
   "cell_type": "code",
   "execution_count": 1,
   "metadata": {
    "colab": {},
    "colab_type": "code",
    "id": "TNk71eLBZ40v"
   },
   "outputs": [
    {
     "name": "stdout",
     "output_type": "stream",
     "text": [
      "100%\n"
     ]
    }
   ],
   "source": [
    "string1 = '100'\n",
    "string2 = '%'\n",
    "\n",
    "print(string1+string2)"
   ]
  },
  {
   "cell_type": "markdown",
   "metadata": {
    "colab": {},
    "colab_type": "code",
    "id": "FlNMPkzFZ4-H"
   },
   "source": [
    "Q2) Write a python program to take 3 input from the user and calculate the area of the triangle:"
   ]
  },
  {
   "cell_type": "code",
   "execution_count": 3,
   "metadata": {
    "colab": {},
    "colab_type": "code",
    "id": "OTT7PZK4Z8He"
   },
   "outputs": [
    {
     "name": "stdout",
     "output_type": "stream",
     "text": [
      "height: 4\n",
      "base: 2\n",
      "hypotenuse: 8\n",
      "\n",
      "Area: 4.0\n"
     ]
    }
   ],
   "source": [
    "height = int(input(\"height: \"))\n",
    "base = int(input(\"base: \"))\n",
    "hyp = int(input(\"hypotenuse: \"))\n",
    "\n",
    "area = 1/2 * base * height\n",
    "\n",
    "print(\"\\nArea:\",area)"
   ]
  },
  {
   "cell_type": "markdown",
   "metadata": {
    "colab": {},
    "colab_type": "code",
    "id": "M6otG9pNZ8RQ"
   },
   "source": [
    "Q3) Take 5 inputs from the user and find the greatest and the smallest among them:"
   ]
  },
  {
   "cell_type": "code",
   "execution_count": 6,
   "metadata": {
    "colab": {},
    "colab_type": "code",
    "id": "HLuApNeDZ-lT"
   },
   "outputs": [
    {
     "name": "stdout",
     "output_type": "stream",
     "text": [
      "Enter a number: 56\n",
      "Enter a number: 98\n",
      "Enter a number: 356\n",
      "Enter a number: 09\n",
      "Enter a number: 4\n",
      "\n",
      "Greatest number: 356\n",
      "Smallest number: 4\n"
     ]
    }
   ],
   "source": [
    "nums = []\n",
    "\n",
    "for i in range(5):\n",
    "    num = int(input(\"Enter a number: \"))\n",
    "    nums.append(num)\n",
    "    \n",
    "print(\"\\nGreatest number:\",max(nums))\n",
    "print(\"Smallest number:\",min(nums))"
   ]
  },
  {
   "cell_type": "markdown",
   "metadata": {
    "colab": {},
    "colab_type": "code",
    "id": "YvVsl0tcZ-n5"
   },
   "source": [
    "Q4) Take 3 input of the age from the user of his son, daughter and wife. Print the difference between the ages of the son and the daughter, also if who is the youngest among all."
   ]
  },
  {
   "cell_type": "code",
   "execution_count": 8,
   "metadata": {
    "colab": {},
    "colab_type": "code",
    "id": "0OLAa3iNaCdG"
   },
   "outputs": [
    {
     "name": "stdout",
     "output_type": "stream",
     "text": [
      "Enter your wife's age: 35\n",
      "Enter your son's age: 16\n",
      "Enter your daughter's age: 12\n",
      "\n",
      "The daughter is younger than son\n",
      "Age difference = 4\n"
     ]
    }
   ],
   "source": [
    "wife = int(input(\"Enter your wife's age: \"))\n",
    "son = int(input(\"Enter your son's age: \"))\n",
    "daughter = int(input(\"Enter your daughter's age: \"))\n",
    "\n",
    "if son < daughter:\n",
    "    print(\"\\nThe son is younger than daughter\")\n",
    "    print(\"Age difference =\",daughter - son)\n",
    "    \n",
    "elif son == daughter:\n",
    "    print(\"\\nBoth are of same age\")\n",
    "    print(\"Age difference = 0\")\n",
    "    \n",
    "else:\n",
    "    print(\"\\nThe daughter is younger than son\")\n",
    "    print(\"Age difference =\",son - daughter)"
   ]
  },
  {
   "cell_type": "markdown",
   "metadata": {
    "colab": {},
    "colab_type": "code",
    "id": "ToKloxOVaC3V"
   },
   "source": [
    "Q5) Write code that prints Hello if ‘value’ is stored in ‘number’, prints Howdy if 0 is stored in number, and prints Greetings! if anything else is stored in spam."
   ]
  },
  {
   "cell_type": "code",
   "execution_count": 9,
   "metadata": {
    "colab": {},
    "colab_type": "code",
    "id": "jfSxZhjyaKyF"
   },
   "outputs": [
    {
     "name": "stdout",
     "output_type": "stream",
     "text": [
      "Greetings!\n"
     ]
    }
   ],
   "source": [
    "number = 1\n",
    "if number == 0: print(\"Hello\")\n",
    "elif number == 'value': print(\"Howdy\")\n",
    "else: print(\"Greetings!\")"
   ]
  },
  {
   "cell_type": "code",
   "execution_count": null,
   "metadata": {
    "colab": {},
    "colab_type": "code",
    "id": "ElXHnp65aK-0"
   },
   "outputs": [],
   "source": [
    "A school has following rules for grading system:\n",
    "a. Below 25 - F\n",
    "b. 25 to 45 - E\n",
    "c. 45 to 50 - D\n",
    "d. 50 to 60 - C\n",
    "e. 60 to 80 - B\n",
    "f. Above 80 - A\n",
    "Ask user to enter marks and print the corresponding grade."
   ]
  },
  {
   "cell_type": "code",
   "execution_count": 10,
   "metadata": {
    "colab": {},
    "colab_type": "code",
    "id": "EahZ7IdxaM9Y"
   },
   "outputs": [
    {
     "name": "stdout",
     "output_type": "stream",
     "text": [
      "Enter your grade: 25\n",
      "E grade\n"
     ]
    }
   ],
   "source": [
    "grade = int(input(\"Enter your grade: \"))\n",
    "\n",
    "if 80 < grade <= 100: print(\"A grade\")\n",
    "elif 60 < grade <= 80: print(\"B grade\")\n",
    "elif 50 < grade <= 60: print(\"C grade\")\n",
    "elif 45 < grade <= 50: print(\"D grade\")\n",
    "elif 25 <= grade <= 45: print(\"E grade\")\n",
    "elif grade < 25: print(\"F grade\")"
   ]
  },
  {
   "cell_type": "markdown",
   "metadata": {
    "colab": {},
    "colab_type": "code",
    "id": "0N_a9_JmaNEg"
   },
   "source": [
    "A student will not be allowed to sit in exam if his/her attendance is less than 75%.\n",
    "Take following input from user:\n",
    "Number of classes held,\n",
    "Number of classes attended\n",
    "and print percentage of class attended also check whether the student is allowed to sit in exam or not."
   ]
  },
  {
   "cell_type": "code",
   "execution_count": 17,
   "metadata": {
    "colab": {},
    "colab_type": "code",
    "id": "QEexzmuVacMs"
   },
   "outputs": [
    {
     "name": "stdout",
     "output_type": "stream",
     "text": [
      "Classes held: 40\n",
      "Classes attended: 29\n",
      "72.5\n",
      "Not allowed to sit in exam\n"
     ]
    }
   ],
   "source": [
    "classes = int(input(\"Classes held: \"))\n",
    "attended = int(input(\"Classes attended: \"))\n",
    "per = attended/classes * 100\n",
    "\n",
    "print(per)\n",
    "if per < 75: print(\"Not allowed to sit in exam\")\n",
    "else: print(\"Allowed to sit in exam\")"
   ]
  },
  {
   "cell_type": "code",
   "execution_count": null,
   "metadata": {
    "colab": {},
    "colab_type": "code",
    "id": "wOIbIyiAacYF"
   },
   "outputs": [],
   "source": [
    "Ask user to enter age, sex ( M or F ), marital status ( Y or N ) and then using following rules\n",
    "print their place of service.\n",
    "if employee is female, then she will work only in urban areas.\n",
    "if employee is a male and age is in between 20 to 40 then he may work in anywhere\n",
    "if employee is male and age is in between 40 t0 60 then he will work in urban areas only.\n",
    "And any other input of age should print \"ERROR\"."
   ]
  },
  {
   "cell_type": "code",
   "execution_count": 19,
   "metadata": {
    "colab": {},
    "colab_type": "code",
    "id": "LEsRx-dJag5y"
   },
   "outputs": [
    {
     "name": "stdout",
     "output_type": "stream",
     "text": [
      "Age: 40\n",
      "Sex(m/f): m\n",
      "Married?(y/n): n\n",
      "You will work only in urban areas.\n"
     ]
    }
   ],
   "source": [
    "age = int(input(\"Age: \"))\n",
    "sex = input(\"Sex(m/f): \")\n",
    "mar = input(\"Married?(y/n): \")\n",
    "\n",
    "if sex == 'f' or (sex == 'm' and 39 < age < 61): print(\"You will work only in urban areas.\")\n",
    "elif sex == 'm' and 19 < age < 41: print(\"You can work anywhere.\")\n",
    "else: print(\"ERROR\")"
   ]
  },
  {
   "cell_type": "code",
   "execution_count": null,
   "metadata": {
    "colab": {},
    "colab_type": "code",
    "id": "Z2twdy3CahFY"
   },
   "outputs": [],
   "source": [
    "Check whether the given number is a positive or a negative number."
   ]
  },
  {
   "cell_type": "code",
   "execution_count": 21,
   "metadata": {
    "colab": {},
    "colab_type": "code",
    "id": "IKIPAMcvanrD"
   },
   "outputs": [
    {
     "name": "stdout",
     "output_type": "stream",
     "text": [
      "type any number: -1000\n",
      "Negative number\n"
     ]
    }
   ],
   "source": [
    "num = int(input(\"type any number: \"))\n",
    "\n",
    "if num < 0: print(\"Negative number\")\n",
    "else: print(\"Positive number\")"
   ]
  },
  {
   "cell_type": "code",
   "execution_count": null,
   "metadata": {
    "colab": {},
    "colab_type": "code",
    "id": "4TPrrsT3an2M"
   },
   "outputs": [],
   "source": [
    "Check the divisibility of one integer by another."
   ]
  },
  {
   "cell_type": "code",
   "execution_count": 24,
   "metadata": {
    "colab": {},
    "colab_type": "code",
    "id": "7pAGZEtyap76"
   },
   "outputs": [
    {
     "name": "stdout",
     "output_type": "stream",
     "text": [
      "Enter the bigger number: 2\n",
      "Enter the smaller number: 4\n",
      "Indivisible\n"
     ]
    }
   ],
   "source": [
    "num1 = int(input(\"Enter the bigger number: \"))\n",
    "num2 = int(input(\"Enter the smaller number: \"))\n",
    "\n",
    "if(num1%num2): print(\"Indivisible\")\n",
    "else: print(\"Divisible\")"
   ]
  },
  {
   "cell_type": "code",
   "execution_count": null,
   "metadata": {
    "colab": {},
    "colab_type": "code",
    "id": "Y-3BAWwtaqF5"
   },
   "outputs": [],
   "source": [
    "Convert Celsius to Fahrenheit or vice – versa."
   ]
  },
  {
   "cell_type": "code",
   "execution_count": 26,
   "metadata": {
    "colab": {},
    "colab_type": "code",
    "id": "iFkqWsjkatCc"
   },
   "outputs": [
    {
     "name": "stdout",
     "output_type": "stream",
     "text": [
      "Enter the temperature in Celcius: 0\n",
      "32.0 Farenheit\n"
     ]
    }
   ],
   "source": [
    "cel = int(input(\"Enter the temperature in Celcius: \"))\n",
    "\n",
    "print(cel*9/5 + 32,\"Farenheit\")"
   ]
  },
  {
   "cell_type": "code",
   "execution_count": null,
   "metadata": {
    "colab": {},
    "colab_type": "code",
    "id": "u5KK2DvmatMx"
   },
   "outputs": [],
   "source": [
    "Give 3 options to user of mass, density and volume. Then Calculate the mass, density and volume as entered by the user."
   ]
  },
  {
   "cell_type": "code",
   "execution_count": 27,
   "metadata": {
    "colab": {},
    "colab_type": "code",
    "id": "iRFi1_p9a3Xv"
   },
   "outputs": [
    {
     "name": "stdout",
     "output_type": "stream",
     "text": [
      "Enter the value of mass:10\n",
      "Enter the value of volume:5\n",
      "Density = 2.0\n"
     ]
    }
   ],
   "source": [
    "m = int(input(\"Enter the value of mass:\"))\n",
    "v = int(input(\"Enter the value of volume:\"))\n",
    "d = m/v\n",
    "\n",
    "print(\"Density =\",d)"
   ]
  },
  {
   "cell_type": "code",
   "execution_count": null,
   "metadata": {
    "colab": {},
    "colab_type": "code",
    "id": "CltrPfCla3kt"
   },
   "outputs": [],
   "source": [
    "Check whether a triangle is formed or not with the given sides by the user."
   ]
  },
  {
   "cell_type": "code",
   "execution_count": 28,
   "metadata": {
    "colab": {},
    "colab_type": "code",
    "id": "GmZNlxUHa7Ar"
   },
   "outputs": [
    {
     "name": "stdout",
     "output_type": "stream",
     "text": [
      "Enter a multiple value: 1 2\n",
      "Enter a multiple value: 3 4\n",
      "Enter a multiple value: 5 6\n",
      "No\n"
     ]
    }
   ],
   "source": [
    "x = list(map(int, input(\"Enter a multiple value: \").split()))\n",
    "y = list(map(int, input(\"Enter a multiple value: \").split()))\n",
    "z = list(map(int, input(\"Enter a multiple value: \").split()))\n",
    "\n",
    "a = x[0] * (y[1] - z[1]) + y[0] * (z[1] - x[1]) + z[0] * (x[1] - y[1])\n",
    "  \n",
    "if a == 0: print(\"No\") \n",
    "else: print(\"Yes\") "
   ]
  },
  {
   "cell_type": "code",
   "execution_count": null,
   "metadata": {
    "colab": {},
    "colab_type": "code",
    "id": "Ys-8aNtUa7Jc"
   },
   "outputs": [],
   "source": [
    "Calculate the sum of the digits of the random three – digit numbers."
   ]
  },
  {
   "cell_type": "code",
   "execution_count": 33,
   "metadata": {
    "colab": {},
    "colab_type": "code",
    "id": "fQTvGbDca-LP"
   },
   "outputs": [
    {
     "name": "stdout",
     "output_type": "stream",
     "text": [
      "507 + 304 + 859 = 1670\n"
     ]
    }
   ],
   "source": [
    "import random\n",
    "\n",
    "a = random.randint(100,1000)\n",
    "b = random.randint(100,1000)\n",
    "c = random.randint(100,1000)\n",
    "print(a,'+',b,'+',c,'=',a+b+c)"
   ]
  },
  {
   "cell_type": "code",
   "execution_count": null,
   "metadata": {
    "colab": {},
    "colab_type": "code",
    "id": "48wnk82ua-WL"
   },
   "outputs": [],
   "source": [
    "Calculate the circumference of a circle if user enters the radius value."
   ]
  },
  {
   "cell_type": "code",
   "execution_count": 36,
   "metadata": {
    "colab": {},
    "colab_type": "code",
    "id": "ZoOf_0VebBog"
   },
   "outputs": [
    {
     "name": "stdout",
     "output_type": "stream",
     "text": [
      "Radius = 4\n",
      "\n",
      "Cirumference of the circle: 25.132741228718345\n"
     ]
    }
   ],
   "source": [
    "import math\n",
    "r = int(input(\"Radius = \"))\n",
    "p = math.pi\n",
    "c = 2*p*r\n",
    "print(\"\\nCirumference of the circle:\",c)"
   ]
  },
  {
   "cell_type": "code",
   "execution_count": null,
   "metadata": {
    "colab": {},
    "colab_type": "code",
    "id": "WQ3aGOdYbBxI"
   },
   "outputs": [],
   "source": [
    "Check whether a number is a prime number or not."
   ]
  },
  {
   "cell_type": "code",
   "execution_count": 48,
   "metadata": {
    "colab": {},
    "colab_type": "code",
    "id": "HgXdqQDBbEUp"
   },
   "outputs": [
    {
     "name": "stdout",
     "output_type": "stream",
     "text": [
      "Enter a positive number:97\n",
      "prime number\n"
     ]
    }
   ],
   "source": [
    "num = int(input(\"Enter a positive number:\"))\n",
    "\n",
    "for i in reversed(range(1,num)):\n",
    "    if i == 1: \n",
    "        print(\"prime number\")\n",
    "    elif num%i == 0: \n",
    "        print(\"not a prime\")\n",
    "        break"
   ]
  },
  {
   "cell_type": "markdown",
   "metadata": {
    "colab": {},
    "colab_type": "code",
    "id": "vrAIuilMbEgh"
   },
   "source": [
    "Write a program to check whether a triangle is Equilateral, Isosceles or Scalene."
   ]
  },
  {
   "cell_type": "code",
   "execution_count": 52,
   "metadata": {
    "colab": {},
    "colab_type": "code",
    "id": "rG2YDitsbHbq"
   },
   "outputs": [
    {
     "name": "stdout",
     "output_type": "stream",
     "text": [
      "Enter the value of side1:1\n",
      "Enter the value of side2:11\n",
      "Enter the value of side3:1\n",
      "Isosceles triangle\n"
     ]
    }
   ],
   "source": [
    "side1 = int(input(\"Enter the value of side1:\"))\n",
    "side2 = int(input(\"Enter the value of side2:\"))\n",
    "side3 = int(input(\"Enter the value of side3:\"))\n",
    "\n",
    "if side1 == side2 or side1 == side3 or side2 == side3:\n",
    "    if side1 == side2 == side3: print(\"Equilateral triangle\")\n",
    "    else: print(\"Isosceles triangle\")\n",
    "        \n",
    "else: print(\"Scalene triangle\")"
   ]
  },
  {
   "cell_type": "code",
   "execution_count": null,
   "metadata": {
    "colab": {},
    "colab_type": "code",
    "id": "X5VqES82bHnA"
   },
   "outputs": [],
   "source": [
    "Write a program to check whether a character is an alphabet, digit or special character."
   ]
  },
  {
   "cell_type": "code",
   "execution_count": 65,
   "metadata": {
    "colab": {},
    "colab_type": "code",
    "id": "Ru5hmnhlbKTd"
   },
   "outputs": [
    {
     "name": "stdout",
     "output_type": "stream",
     "text": [
      "Enter a 1-digit number / alphabet / special character: @\n",
      "The given character '@' is a special character\n"
     ]
    }
   ],
   "source": [
    "ch = input(\"Enter a 1-digit number / alphabet / special character: \")\n",
    "if((ch >= 'a' and ch <= 'z') or (ch >= 'A' and ch <= 'Z')): \n",
    "    print(\"The given character '\"+ch+ \"' is an alphabet\") \n",
    "elif(ch >= '0' and ch <= '9'):\n",
    "    print(\"The given character '\"+ch+ \"' is a number\")\n",
    "else:\n",
    "    print(\"The given character '\"+ch+\"' is a special character\")"
   ]
  },
  {
   "cell_type": "code",
   "execution_count": null,
   "metadata": {
    "colab": {},
    "colab_type": "code",
    "id": "Tn4zypdxbKeh"
   },
   "outputs": [],
   "source": [
    "Print the following with the help of string concatenation: 1008090"
   ]
  },
  {
   "cell_type": "code",
   "execution_count": 68,
   "metadata": {
    "colab": {},
    "colab_type": "code",
    "id": "8jwj5pidbNb5"
   },
   "outputs": [
    {
     "name": "stdout",
     "output_type": "stream",
     "text": [
      "1008090\n"
     ]
    }
   ],
   "source": [
    "print('1'+'0'+'0'+'8'+'0'+'9'+'0')"
   ]
  },
  {
   "cell_type": "markdown",
   "metadata": {
    "colab": {},
    "colab_type": "code",
    "id": "Y4bkftp6bNq5"
   },
   "source": [
    "Find the values of the following:\n",
    "- X = 5 , X += 12 , print(x)\n",
    "- If x = 12 , y = 10 then x += y + 22. Print(x,y)"
   ]
  },
  {
   "cell_type": "code",
   "execution_count": 69,
   "metadata": {},
   "outputs": [
    {
     "name": "stdout",
     "output_type": "stream",
     "text": [
      "17\n"
     ]
    }
   ],
   "source": [
    "x = 5 \n",
    "x += 12 \n",
    "print(x)"
   ]
  },
  {
   "cell_type": "code",
   "execution_count": 71,
   "metadata": {},
   "outputs": [
    {
     "name": "stdout",
     "output_type": "stream",
     "text": [
      "44 10\n"
     ]
    }
   ],
   "source": [
    "x = 12\n",
    "y = 10 \n",
    "x += y + 22\n",
    "print(x,y)"
   ]
  }
 ],
 "metadata": {
  "colab": {
   "name": "A3.ipynb",
   "provenance": []
  },
  "kernelspec": {
   "display_name": "Python 3",
   "language": "python",
   "name": "python3"
  },
  "language_info": {
   "codemirror_mode": {
    "name": "ipython",
    "version": 3
   },
   "file_extension": ".py",
   "mimetype": "text/x-python",
   "name": "python",
   "nbconvert_exporter": "python",
   "pygments_lexer": "ipython3",
   "version": "3.7.6"
  },
  "toc": {
   "base_numbering": 1,
   "nav_menu": {},
   "number_sections": true,
   "sideBar": true,
   "skip_h1_title": false,
   "title_cell": "Table of Contents",
   "title_sidebar": "Contents",
   "toc_cell": false,
   "toc_position": {},
   "toc_section_display": true,
   "toc_window_display": false
  }
 },
 "nbformat": 4,
 "nbformat_minor": 1
}
