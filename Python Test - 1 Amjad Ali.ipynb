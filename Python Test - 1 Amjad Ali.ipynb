{
 "cells": [
  {
   "cell_type": "markdown",
   "metadata": {},
   "source": [
    "<h2 align=center> Python Test -1 Amjad Ali</h2>\n",
    "<h1 align=center><code>Int, Str, Float, Input/ Output / Coditions </code></h1>"
   ]
  },
  {
   "cell_type": "markdown",
   "metadata": {},
   "source": [
    "**Find the area and the perimeter of a right angled triangle.**"
   ]
  },
  {
   "cell_type": "code",
   "execution_count": 3,
   "metadata": {},
   "outputs": [
    {
     "name": "stdout",
     "output_type": "stream",
     "text": [
      "Base of the triangle = 3\n",
      "Height of the triangle = 2\n",
      "Hypotenuse of the triangle = 1\n",
      "\n",
      "Perimeter of Trianlge: 6\n",
      "Area of Trianlge: 3.0\n"
     ]
    }
   ],
   "source": [
    "b = int(input(\"Base of the triangle = \"))\n",
    "h = int(input(\"Height of the triangle = \"))\n",
    "hyp = int(input(\"Hypotenuse of the triangle = \"))\n",
    "\n",
    "p = b + h + hyp\n",
    "\n",
    "a = (b*h)/2 ; \n",
    "\n",
    "print(\"\\nPerimeter of Trianlge:\",p)\n",
    "print(\"Area of Trianlge:\",a)"
   ]
  },
  {
   "cell_type": "markdown",
   "metadata": {},
   "source": [
    "**The total surface area of a cylinder**"
   ]
  },
  {
   "cell_type": "code",
   "execution_count": 5,
   "metadata": {},
   "outputs": [
    {
     "name": "stdout",
     "output_type": "stream",
     "text": [
      "Radius = 2\n",
      "Height = 5\n",
      "\n",
      "TSA of cylinder = 43.982297150257104\n"
     ]
    }
   ],
   "source": [
    "import math\n",
    "\n",
    "r = int(input(\"Radius = \"))\n",
    "h = int(input(\"Height = \"))\n",
    "p = math.pi\n",
    "\n",
    "tsa = 2*p*(r + h)\n",
    "\n",
    "print(\"\\nTSA of cylinder =\",tsa)"
   ]
  },
  {
   "cell_type": "markdown",
   "metadata": {},
   "source": [
    "**Length of cirumference and area of a circle.**"
   ]
  },
  {
   "cell_type": "code",
   "execution_count": 6,
   "metadata": {},
   "outputs": [
    {
     "name": "stdout",
     "output_type": "stream",
     "text": [
      "Radius = 4\n",
      "\n",
      "Cirumference of a circle: 25.132741228718345\n",
      "Area of a circle: 50.26548245743669\n"
     ]
    }
   ],
   "source": [
    "import math\n",
    "r = int(input(\"Radius = \"))\n",
    "p = math.pi\n",
    "\n",
    "c = 2*p*r\n",
    "a = p*r*r\n",
    "\n",
    "print(\"\\nCirumference of a circle:\",c)\n",
    "print(\"Area of a circle:\",a)"
   ]
  },
  {
   "cell_type": "markdown",
   "metadata": {},
   "source": [
    "**The sum of the digits are reperesented a symbols. Find the difference and sum.**"
   ]
  },
  {
   "cell_type": "code",
   "execution_count": null,
   "metadata": {},
   "outputs": [],
   "source": [
    "print(\"???\")"
   ]
  },
  {
   "cell_type": "markdown",
   "metadata": {},
   "source": [
    "**Determine the letter number in an alphabet**"
   ]
  },
  {
   "cell_type": "code",
   "execution_count": 7,
   "metadata": {},
   "outputs": [
    {
     "name": "stdout",
     "output_type": "stream",
     "text": [
      "Enter the string: Amjad\n",
      "Enter the letter: d\n",
      "Letter number = 5\n"
     ]
    }
   ],
   "source": [
    "name = input(\"Enter the string: \")\n",
    "letter = input(\"Enter the letter: \")\n",
    "i = name.index(letter)\n",
    "\n",
    "print(\"Letter number =\",i+1)"
   ]
  },
  {
   "cell_type": "markdown",
   "metadata": {},
   "source": [
    "**Is a Number positive or negative**"
   ]
  },
  {
   "cell_type": "code",
   "execution_count": 12,
   "metadata": {},
   "outputs": [
    {
     "name": "stdout",
     "output_type": "stream",
     "text": [
      "3\n",
      "\n",
      "Number is positive\n"
     ]
    }
   ],
   "source": [
    "n = int(input())\n",
    "\n",
    "if n>0: print('\\nNumber is positive')\n",
    "elif n<0: print('\\nNumber is negative')\n",
    "else: print(\"\\nNeither positive nor negative\")"
   ]
  },
  {
   "cell_type": "markdown",
   "metadata": {},
   "source": [
    "**Is the number odd or even ?**"
   ]
  },
  {
   "cell_type": "code",
   "execution_count": 15,
   "metadata": {},
   "outputs": [
    {
     "name": "stdout",
     "output_type": "stream",
     "text": [
      "-1000\n",
      "\n",
      "The number is even\n"
     ]
    }
   ],
   "source": [
    "num = int(input())\n",
    "\n",
    "if num%2 == 0: print(\"\\nThe number is even\")\n",
    "else:print(\"\\nThe number is odd\")"
   ]
  },
  {
   "cell_type": "markdown",
   "metadata": {},
   "source": [
    "**Check the maximum of three numbers** "
   ]
  },
  {
   "cell_type": "code",
   "execution_count": 17,
   "metadata": {},
   "outputs": [
    {
     "name": "stdout",
     "output_type": "stream",
     "text": [
      "Enter the first number: 7\n",
      "Enter the second number: 0\n",
      "Enter the third number: 2\n",
      "\n",
      "7 is the greatest number\n"
     ]
    }
   ],
   "source": [
    "a = int(input(\"Enter the first number: \"))\n",
    "b = int(input(\"Enter the second number: \"))\n",
    "c = int(input(\"Enter the third number: \"))\n",
    "\n",
    "print()\n",
    "\n",
    "if a > b and a > c: print(a,\"is the greatest number\")\n",
    "elif b > a and b > c: print(b,\"is the greatest number\")\n",
    "if c > a and c > b: print(a,\"is the greatest number\")"
   ]
  },
  {
   "cell_type": "markdown",
   "metadata": {},
   "source": [
    "**calculate the mass, density and volume given by the user**"
   ]
  },
  {
   "cell_type": "code",
   "execution_count": 21,
   "metadata": {},
   "outputs": [
    {
     "name": "stdout",
     "output_type": "stream",
     "text": [
      "Enter the value of mass10\n",
      "Enter the value of volume5\n",
      "Density = 2.0\n"
     ]
    }
   ],
   "source": [
    "m = int(input(\"Enter the value of mass\"))\n",
    "v = int(input(\"Enter the value of volume\"))\n",
    "d = m/v\n",
    "\n",
    "print(\"Density =\",d)"
   ]
  },
  {
   "cell_type": "markdown",
   "metadata": {},
   "source": [
    "**In quardrant does a point lies**"
   ]
  },
  {
   "cell_type": "code",
   "execution_count": 18,
   "metadata": {},
   "outputs": [
    {
     "name": "stdout",
     "output_type": "stream",
     "text": [
      "x-coordinate = 4\n",
      "y-coordinate = -7\n",
      "Fourth Quadrant\n"
     ]
    }
   ],
   "source": [
    "x = int(input(\"x-coordinate = \"))\n",
    "y = int(input(\"y-coordinate = \"))\n",
    "\n",
    "if x == 0:\n",
    "    if y == 0:\n",
    "        print(\"It is at origin\")\n",
    "    if y > 0:\n",
    "        print(\"It is on positive y-axis\")\n",
    "    if y < 0:\n",
    "        print(\"It is on negative y-axis\")\n",
    "        \n",
    "if y == 0:\n",
    "    if x > 0:\n",
    "        print(\"It is on positive x-axis\")\n",
    "    if x < 0:\n",
    "        print(\"It is on negative x-axis\")\n",
    "\n",
    "if x > 0 and y > 0: print(\"First Quadrant\")\n",
    "if x < 0 and y > 0: print(\"Second Quadrant\")\n",
    "if x < 0 and y < 0: print(\"Third Quadrant\")\n",
    "if x > 0 and y < 0: print(\"Fourth Quadrant\")"
   ]
  },
  {
   "cell_type": "markdown",
   "metadata": {},
   "source": [
    "**Check the divisibilty of a number by the another number.**"
   ]
  },
  {
   "cell_type": "code",
   "execution_count": 24,
   "metadata": {},
   "outputs": [
    {
     "name": "stdout",
     "output_type": "stream",
     "text": [
      "Num1 = 4\n",
      "Num2 = 2\n",
      "Num1 is divisible by Num2\n"
     ]
    }
   ],
   "source": [
    "num1 = int(input(\"Num1 = \"))\n",
    "num2 = int(input(\"Num2 = \"))\n",
    "\n",
    "if num1%num2 == 0: print(\"Num1 is divisible by Num2\")\n",
    "else: print(\"Num1 is not divisible by Num2\")"
   ]
  },
  {
   "cell_type": "markdown",
   "metadata": {},
   "source": [
    "**Is it possibe to form a trinagle with user given points ?**"
   ]
  },
  {
   "cell_type": "code",
   "execution_count": 1,
   "metadata": {},
   "outputs": [
    {
     "name": "stdout",
     "output_type": "stream",
     "text": [
      "Enter a multiple value: 1 2\n",
      "Enter a multiple value: 3 4\n",
      "Enter a multiple value: 5 6\n",
      "No\n"
     ]
    }
   ],
   "source": [
    "x = list(map(int, input(\"Enter a multiple value: \").split()))\n",
    "y = list(map(int, input(\"Enter a multiple value: \").split()))\n",
    "z = list(map(int, input(\"Enter a multiple value: \").split()))\n",
    "\n",
    "a = x[0] * (y[1] - z[1]) + y[0] * (z[1] - x[1]) + z[0] * (x[1] - y[1])\n",
    "  \n",
    "if a == 0: print(\"No\") \n",
    "else: print(\"Yes\") "
   ]
  },
  {
   "cell_type": "markdown",
   "metadata": {},
   "source": [
    "**Use random number to generate a 16 digit Account Number for a Bank Customer.**"
   ]
  },
  {
   "cell_type": "code",
   "execution_count": 6,
   "metadata": {},
   "outputs": [
    {
     "name": "stdout",
     "output_type": "stream",
     "text": [
      "Account no.:  7691517762285542"
     ]
    }
   ],
   "source": [
    "import random \n",
    "\n",
    "print(\"Account no.: \",end=' ')\n",
    "for i in range(16):\n",
    "    n = random.randint(0,9) \n",
    "    print(n,end='')"
   ]
  },
  {
   "cell_type": "markdown",
   "metadata": {},
   "source": [
    "**Use string techniques to accept the correct domain inputs of the mail id.**"
   ]
  },
  {
   "cell_type": "code",
   "execution_count": 7,
   "metadata": {},
   "outputs": [
    {
     "name": "stdout",
     "output_type": "stream",
     "text": [
      "amjadkudsi7@gmail.com\n",
      "valid email\n"
     ]
    }
   ],
   "source": [
    "email = input()\n",
    "\n",
    "if email[-10:] == '@gmail.com': print('valid email')\n",
    "else: print('invalid email')"
   ]
  }
 ],
 "metadata": {
  "kernelspec": {
   "display_name": "Python 3",
   "language": "python",
   "name": "python3"
  },
  "language_info": {
   "codemirror_mode": {
    "name": "ipython",
    "version": 3
   },
   "file_extension": ".py",
   "mimetype": "text/x-python",
   "name": "python",
   "nbconvert_exporter": "python",
   "pygments_lexer": "ipython3",
   "version": "3.7.6"
  },
  "toc": {
   "base_numbering": 1,
   "nav_menu": {},
   "number_sections": true,
   "sideBar": true,
   "skip_h1_title": false,
   "title_cell": "Table of Contents",
   "title_sidebar": "Contents",
   "toc_cell": false,
   "toc_position": {},
   "toc_section_display": true,
   "toc_window_display": false
  }
 },
 "nbformat": 4,
 "nbformat_minor": 4
}
