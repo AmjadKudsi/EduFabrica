{
 "cells": [
  {
   "cell_type": "markdown",
   "metadata": {},
   "source": [
    "<h2 align=center> Python Test -2 Amjad Ali </h2>\n",
    "<h1 align=center><code>Conditions,String,List,Tuples,Set</code></h1>"
   ]
  },
  {
   "cell_type": "markdown",
   "metadata": {},
   "source": [
    "**1 . Determine the Maximum of three numbers.**"
   ]
  },
  {
   "cell_type": "code",
   "execution_count": 5,
   "metadata": {},
   "outputs": [
    {
     "name": "stdout",
     "output_type": "stream",
     "text": [
      "800\n",
      "345\n",
      "79\n",
      "\n",
      "Greatest input number: 800\n"
     ]
    }
   ],
   "source": [
    "nums = []\n",
    "for i in range(3):\n",
    "    num = int(input())\n",
    "    nums.append(num)\n",
    "    \n",
    "print(\"\\nGreatest input number:\",max(nums))"
   ]
  },
  {
   "cell_type": "markdown",
   "metadata": {},
   "source": [
    "**2 . Is a triangle can be formed with given three sides.**"
   ]
  },
  {
   "cell_type": "code",
   "execution_count": 6,
   "metadata": {},
   "outputs": [
    {
     "name": "stdout",
     "output_type": "stream",
     "text": [
      "Enter a multiple value: 1 2\n",
      "Enter a multiple value: 3 4\n",
      "Enter a multiple value: 5 6\n",
      "No\n"
     ]
    }
   ],
   "source": [
    "x = list(map(int, input(\"Enter a multiple value: \").split()))\n",
    "y = list(map(int, input(\"Enter a multiple value: \").split()))\n",
    "z = list(map(int, input(\"Enter a multiple value: \").split()))\n",
    "\n",
    "a = x[0] * (y[1] - z[1]) + y[0] * (z[1] - x[1]) + z[0] * (x[1] - y[1])\n",
    "  \n",
    "if a == 0: print(\"No\") \n",
    "else: print(\"Yes\") "
   ]
  },
  {
   "cell_type": "markdown",
   "metadata": {},
   "source": [
    "**3. Check a file extension and only allow .pdf**"
   ]
  },
  {
   "cell_type": "code",
   "execution_count": 8,
   "metadata": {},
   "outputs": [
    {
     "name": "stdout",
     "output_type": "stream",
     "text": [
      "Enter the file name: a.mp4\n",
      "Enter the file name: b.jpg\n",
      "Enter the file name: c.pdf\n",
      "Enter the file name: d.jpeg\n",
      "Enter the file name: e.pdf\n",
      "\n",
      "\n",
      "not allowed\n",
      "not allowed\n",
      "allowed\n",
      "not allowed\n",
      "allowed\n"
     ]
    }
   ],
   "source": [
    "files = []\n",
    "for i in range(5):\n",
    "    name = input((\"Enter the file name: \"))\n",
    "    files.append(name)\n",
    "\n",
    "print()\n",
    "print()\n",
    "\n",
    "for i in files:\n",
    "    if i[-4:] == '.pdf': print('allowed')\n",
    "    else: print('not allowed')\n"
   ]
  },
  {
   "cell_type": "markdown",
   "metadata": {},
   "source": [
    "**4. Find the longest word in a string**"
   ]
  },
  {
   "cell_type": "code",
   "execution_count": 9,
   "metadata": {},
   "outputs": [
    {
     "name": "stdout",
     "output_type": "stream",
     "text": [
      "The longest word in list is: uvwxyz\n"
     ]
    }
   ],
   "source": [
    "l = 0\n",
    "ind = 0\n",
    "lst = ['abcd','efghi','jkl','mnop','qrst','uvwxyz']\n",
    "for i in range(len(lst)):\n",
    "    if len(lst[i]) > l:\n",
    "        l = len(lst[i])\n",
    "        ind = i\n",
    "        \n",
    "print(\"The longest word in list is:\",lst[i])"
   ]
  },
  {
   "cell_type": "markdown",
   "metadata": {},
   "source": [
    "**5. Replacing List items**"
   ]
  },
  {
   "cell_type": "code",
   "execution_count": 10,
   "metadata": {},
   "outputs": [
    {
     "data": {
      "text/plain": [
       "['abcd', 'efghi', 'jkl', 'amjad', 'qrst', 'uvwxyz']"
      ]
     },
     "execution_count": 10,
     "metadata": {},
     "output_type": "execute_result"
    }
   ],
   "source": [
    "lst = ['abcd','efghi','jkl','mnop','qrst','uvwxyz']\n",
    "lst[3] = 'amjad'\n",
    "lst"
   ]
  },
  {
   "cell_type": "markdown",
   "metadata": {},
   "source": [
    "**6. Take random 1000 numbers nd seperate a list of positive and negative numbers from it**"
   ]
  },
  {
   "cell_type": "code",
   "execution_count": 13,
   "metadata": {},
   "outputs": [
    {
     "name": "stdout",
     "output_type": "stream",
     "text": [
      "Positive numbers:\n",
      "[278, 61, 334, 468, 180, 269, 452, 112, 318, 198, 390, 159, 410, 229, 345, 399, 157, 422, 394, 393, 374, 500, 435, 409, 471, 323, 403, 92, 254, 184, 144, 481, 52, 433, 166, 255, 66, 230, 286, 39, 164, 370, 468, 402, 179, 118, 283, 226, 388, 126, 172, 70, 383, 240, 329, 400, 391, 117, 81, 401, 285, 318, 453, 152, 13, 237, 448, 445, 120, 392, 231, 124, 216, 72, 100, 400, 383, 373, 122, 52, 149, 16, 413, 40, 42, 125, 9, 455, 231, 428, 205, 55, 418, 460, 85, 450, 69, 54, 307, 314, 379, 259, 335, 147, 354, 171, 60, 317, 306, 384, 210, 159, 320, 241, 441, 56, 355, 341, 497, 284, 454, 100, 421, 104, 12, 41, 295, 130, 323, 416, 45, 362, 99, 407, 421, 199, 154, 423, 437, 60, 480, 340, 299, 382, 256, 465, 94, 386, 42, 322, 201, 152, 184, 244, 316, 107, 402, 108, 152, 235, 222, 486, 252, 191, 468, 72, 273, 153, 470, 31, 368, 221, 434, 302, 163, 112, 341, 399, 272, 362, 293, 203, 465, 72, 143, 242, 402, 31, 168, 218, 119, 437, 398, 188, 370, 183, 188, 268, 190, 398, 164, 62, 384, 79, 289, 84, 277, 359, 259, 76, 15, 166, 215, 334, 470, 117, 335, 485, 92, 310, 333, 345, 234, 356, 462, 276, 223, 296, 3, 147, 406, 399, 34, 431, 354, 35, 254, 142, 268, 500, 409, 250, 312, 141, 139, 320, 414, 353, 221, 148, 329, 172, 55, 351, 221, 178, 95, 301, 133, 485, 36, 192, 243, 125, 119, 103, 348, 185, 117, 327, 46, 128, 391, 346, 21, 216, 95, 45, 157, 451, 140, 363, 468, 481, 339, 372, 165, 396, 79, 422, 356, 192, 15, 485, 135, 69, 6, 162, 405, 228, 87, 351, 345, 70, 469, 329, 337, 205, 169, 90, 435, 253, 54, 302, 399, 316, 176, 484, 74, 215, 8, 65, 113, 167, 240, 164, 77, 297, 306, 492, 125, 190, 55, 249, 51, 315, 499, 328, 266, 304, 151, 297, 269, 323, 410, 197, 8, 420, 234, 416, 324, 346, 435, 293, 169, 190, 230, 331, 316, 270, 443, 152, 71, 376, 482, 342, 437, 401, 358, 234, 84, 87, 207, 89, 472, 210, 213, 234, 379, 377, 262, 380, 116, 101, 484, 72, 269, 164, 204, 17, 212, 92, 33, 349, 427, 141, 438, 70, 341, 407, 204, 318, 150, 389, 291, 196, 180, 306, 433, 140, 289, 57, 499, 310, 260, 70, 346, 437, 299, 210, 69, 331, 313, 14, 36, 307, 41, 480, 37, 487, 45, 373, 258, 130, 470, 22, 95, 386, 113, 112, 245, 295, 415, 287, 452, 32, 320, 372, 385, 263, 271, 215, 10, 6, 105, 395, 434, 428, 330, 68, 288, 291, 468, 282, 151, 2, 361, 22, 156, 13, 161, 394, 165, 200, 471, 378, 337, 182, 345, 271, 227, 284, 244, 469, 404, 69, 448, 115, 134, 441, 254, 297, 242, 109, 351, 297, 342, 236, 119, 443, 337, 372, 121, 326, 78, 445, 120, 13, 27]\n",
      "\n",
      "\n",
      "Negative numbers:\n",
      "[-141, -118, -165, -113, -94, -114, -339, -105, -312, -29, -282, -204, -284, -201, -259, -353, -378, -63, -241, -149, -116, -390, -365, -190, -182, -48, -86, -361, -73, -48, -18, -76, -222, -288, -101, -102, -431, -121, -244, -143, -487, -328, -214, -61, -265, -38, -203, -169, -185, -424, -150, -410, -335, -296, -22, -299, -203, -334, -269, -219, -499, -452, -47, -460, -386, -466, -80, -386, -385, -464, -163, -171, -325, -325, -133, -120, -243, -438, -218, -366, -478, -151, -366, -212, -307, -223, -402, -404, -174, -233, -294, -472, -160, -3, -479, -22, -153, -409, -401, -348, -301, -246, -487, -288, -450, -381, -398, -26, -412, -493, -262, -121, -192, -486, -439, -347, -158, -319, -322, -97, -51, -231, -88, -216, -474, -422, -196, -289, -309, -264, -32, -425, -217, -73, -456, -104, -205, -272, -155, -57, -328, -157, -354, -441, -294, -198, -430, -329, -446, -428, -409, -71, -219, -429, -406, -427, -196, -146, -279, -207, -354, -124, -48, -52, -193, -135, -42, -450, -287, -372, -201, -384, -65, -432, -265, -106, -65, -138, -176, -318, -144, -185, -276, -120, -243, -308, -96, -386, -185, -383, -484, -469, -163, -158, -495, -182, -500, -341, -454, -45, -432, -51, -339, -255, -266, -397, -274, -474, -168, -495, -153, -10, -227, -271, -111, -283, -212, -201, -450, -459, -189, -243, -88, -29, -453, -30, -112, -253, -68, -78, -48, -13, -118, -78, -405, -370, -244, -47, -357, -43, -454, -7, -27, -273, -247, -417, -166, -430, -400, -382, -288, -174, -316, -290, -396, -3, -483, -262, -21, -329, -80, -30, -106, -335, -320, -428, -437, -182, -99, -12, -338, -92, -349, -232, -278, -213, -190, -356, -256, -334, -37, -394, -352, -299, -422, -475, -427, -333, -51, -309, -331, -99, -113, -262, -222, -58, -488, -126, -334, -187, -431, -480, -69, -98, -356, -41, -258, -46, -377, -57, -357, -326, -194, -206, -205, -500, -323, -141, -298, -88, -484, -32, -394, -382, -331, -177, -458, -337, -280, -495, -485, -291, -463, -283, -459, -470, -486, -377, -468, -328, -440, -281, -500, -451, -437, -323, -33, -454, -130, -52, -492, -500, -95, -47, -393, -289, -470, -179, -474, -47, -242, -171, -40, -36, -210, -49, -344, -104, -296, -69, -487, -469, -88, -452, -141, -268, -352, -121, -239, -454, -46, -60, -51, -492, -376, -203, -498, -401, -61, -127, -93, -455, -327, -271, -408, -460, -293, -28, -55, -308, -21, -156, -259, -55, -401, -99, -399, -32, -361, -95, -358, -265, -448, -12, -273, -260, -352, -393, -189, -76, -258, -122, -372, -366, -76, -360, -275, -477, -428, -475, -115, -299, -361, -289, -69, -105, -392, -169, -382, -56, -443, -464, -360, -413, -233, -318, -153, -226, -275, -170, -154, -207, -365, -105, -144, -243, -2, -43, -487, -42, -118, -209, -430, -225, -140, -473, -129, -288, -126, -241, -464, -467, -123, -89, -81, -419, -500, -325, -443, -392, -452, -110, -210, -160, -172, -498, -442, -361, -430, -469, -362]\n"
     ]
    }
   ],
   "source": [
    "import random \n",
    "nlist = []\n",
    "\n",
    "for i in range(1000): \n",
    "    n = random.randint(-500,500)\n",
    "    nlist.append(n)\n",
    "\n",
    "positive = []\n",
    "negative = []\n",
    "\n",
    "for i in nlist:\n",
    "    if i>=0: positive.append(i)\n",
    "    else: negative.append(i)\n",
    "\n",
    "print(\"Positive numbers:\")\n",
    "print(positive)\n",
    "print(\"\\n\\nNegative numbers:\")\n",
    "print(negative)"
   ]
  },
  {
   "cell_type": "markdown",
   "metadata": {},
   "source": [
    "**7. Is a string a palindrome** ex. nitin, dad, mom these are a plaindrome"
   ]
  },
  {
   "cell_type": "code",
   "execution_count": 15,
   "metadata": {},
   "outputs": [
    {
     "name": "stdout",
     "output_type": "stream",
     "text": [
      "nitin\n",
      "The word, nitin, is a palindrome.\n"
     ]
    }
   ],
   "source": [
    "import sys\n",
    "        \n",
    "class Solution():\n",
    "    def __init__(self):\n",
    "        self.stack = []\n",
    "        self.queue = []\n",
    "    \n",
    "    def pushCharacter(self,a):\n",
    "        self.stack.append(a)\n",
    "\n",
    "    def enqueueCharacter(self,b):\n",
    "        self.queue.append(b)\n",
    "\n",
    "    def popCharacter(self):\n",
    "        return(self.stack.pop())\n",
    "\n",
    "    def dequeueCharacter(self):\n",
    "        return(self.queue.pop(0))\n",
    "\n",
    "\n",
    "s=input()\n",
    "obj=Solution()   \n",
    "\n",
    "l=len(s)\n",
    "for i in range(l):\n",
    "    obj.pushCharacter(s[i])\n",
    "    obj.enqueueCharacter(s[i])\n",
    "    \n",
    "isPalindrome=True\n",
    "\n",
    "for i in range(l // 2):\n",
    "    if obj.popCharacter()!=obj.dequeueCharacter():\n",
    "        isPalindrome=False\n",
    "        break\n",
    "        \n",
    "if isPalindrome:\n",
    "    print(\"The word, \"+s+\", is a palindrome.\")\n",
    "else:\n",
    "    print(\"The word, \"+s+\", is not a palindrome.\")"
   ]
  },
  {
   "cell_type": "markdown",
   "metadata": {},
   "source": [
    "**8. Determine the percntage of lowercase and upper case in a string**"
   ]
  },
  {
   "cell_type": "code",
   "execution_count": 20,
   "metadata": {},
   "outputs": [
    {
     "name": "stdout",
     "output_type": "stream",
     "text": [
      "percentage of upper case: 40.0\n",
      "percentage of lower case: 60.0\n"
     ]
    }
   ],
   "source": [
    "upper = 0\n",
    "lower = 0\n",
    "\n",
    "lst = ['AMJAD', 'amjad', 'Amjad', 'amjad', 'AMJAD']\n",
    "for i in lst:\n",
    "    if i.isupper(): upper += 1\n",
    "    else: lower += 1\n",
    "        \n",
    "print(\"percentage of upper case:\",upper/len(lst)*100)\n",
    "print(\"percentage of lower case:\",lower/len(lst)*100)"
   ]
  },
  {
   "cell_type": "markdown",
   "metadata": {},
   "source": [
    "**9. Replace substrings in a string**"
   ]
  },
  {
   "cell_type": "code",
   "execution_count": 25,
   "metadata": {},
   "outputs": [
    {
     "name": "stdout",
     "output_type": "stream",
     "text": [
      "I haven't completed the test\n",
      "I have completed the test\n"
     ]
    }
   ],
   "source": [
    "string_a = \"I haven't completed the test\"\n",
    "string_b = string_a.replace(\"haven't\", \"have\")\n",
    "print(string_a)\n",
    "print(string_b)"
   ]
  },
  {
   "cell_type": "markdown",
   "metadata": {},
   "source": [
    "**10.Calculte the sum of the digits of a 3 - digit random number**"
   ]
  },
  {
   "cell_type": "code",
   "execution_count": 26,
   "metadata": {},
   "outputs": [
    {
     "name": "stdout",
     "output_type": "stream",
     "text": [
      "Number = 496\n",
      "Sum of digits = 19\n"
     ]
    }
   ],
   "source": [
    "import random\n",
    "n = random.randint(100,999)\n",
    "\n",
    "sum = 0\n",
    "for digit in str(n):   \n",
    "    sum += int(digit)\n",
    "    \n",
    "print(\"Number =\",n)\n",
    "print(\"Sum of digits =\",sum)"
   ]
  },
  {
   "cell_type": "markdown",
   "metadata": {},
   "source": [
    "**11. Write a Code to remove the data from set1 that are uncommon to both the sets.**\n",
    "\n",
    "**Set1** = {\"NumPy\", \"OpenCv\",\"Scikit-Learn\"} \n",
    "\n",
    "**Set2** = {\"Scikit\", \"Matplotlib\", \"Keras\",\"Scikit-Learn\"}\n",
    "\n",
    "**Expected output:** {'Scikit-Learn'}"
   ]
  },
  {
   "cell_type": "code",
   "execution_count": 28,
   "metadata": {},
   "outputs": [
    {
     "data": {
      "text/plain": [
       "{'Scikit-Learn'}"
      ]
     },
     "execution_count": 28,
     "metadata": {},
     "output_type": "execute_result"
    }
   ],
   "source": [
    "Set1 = {\"NumPy\", \"OpenCv\",\"Scikit-Learn\"}\n",
    "Set2 = {\"Scikit\", \"Matplotlib\", \"Keras\",\"Scikit-Learn\"}\n",
    "\n",
    "uncommon = []\n",
    "\n",
    "for i in Set1:\n",
    "    if i not in Set2:\n",
    "        uncommon.append(i)\n",
    "        \n",
    "if len(uncommon) != 0: \n",
    "    for i in uncommon:\n",
    "        Set1.remove(i)\n",
    "        \n",
    "Set1"
   ]
  }
 ],
 "metadata": {
  "kernelspec": {
   "display_name": "Python 3",
   "language": "python",
   "name": "python3"
  },
  "language_info": {
   "codemirror_mode": {
    "name": "ipython",
    "version": 3
   },
   "file_extension": ".py",
   "mimetype": "text/x-python",
   "name": "python",
   "nbconvert_exporter": "python",
   "pygments_lexer": "ipython3",
   "version": "3.7.6"
  },
  "toc": {
   "base_numbering": 1,
   "nav_menu": {},
   "number_sections": true,
   "sideBar": true,
   "skip_h1_title": false,
   "title_cell": "Table of Contents",
   "title_sidebar": "Contents",
   "toc_cell": false,
   "toc_position": {},
   "toc_section_display": true,
   "toc_window_display": false
  }
 },
 "nbformat": 4,
 "nbformat_minor": 4
}
