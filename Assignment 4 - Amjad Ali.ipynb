{
 "cells": [
  {
   "cell_type": "markdown",
   "metadata": {},
   "source": [
    "Python Assignment 4 - Amjad Ali"
   ]
  },
  {
   "cell_type": "code",
   "execution_count": null,
   "metadata": {
    "colab": {},
    "colab_type": "code",
    "id": "8R1P4rlr9E97"
   },
   "outputs": [],
   "source": [
    "1. Take input of a number from the user and print the table of that number."
   ]
  },
  {
   "cell_type": "code",
   "execution_count": 2,
   "metadata": {
    "colab": {},
    "colab_type": "code",
    "id": "VThrfk499M3E"
   },
   "outputs": [
    {
     "name": "stdout",
     "output_type": "stream",
     "text": [
      "Enter a number: 5\n",
      "5 x 1 = 5\n",
      "5 x 2 = 10\n",
      "5 x 3 = 15\n",
      "5 x 4 = 20\n",
      "5 x 5 = 25\n",
      "5 x 6 = 30\n",
      "5 x 7 = 35\n",
      "5 x 8 = 40\n",
      "5 x 9 = 45\n",
      "5 x 10 = 50\n",
      "5 x 11 = 55\n",
      "5 x 12 = 60\n"
     ]
    }
   ],
   "source": [
    "num = int(input(\"Enter a number: \"))\n",
    "\n",
    "print(num,'x 1 =',num)\n",
    "print(num,'x 2 =',num*2)\n",
    "print(num,'x 3 =',num*3)\n",
    "print(num,'x 4 =',num*4)\n",
    "print(num,'x 5 =',num*5)\n",
    "print(num,'x 6 =',num*6)\n",
    "print(num,'x 7 =',num*7)\n",
    "print(num,'x 8 =',num*8)\n",
    "print(num,'x 9 =',num*9)\n",
    "print(num,'x 10 =',num*10)\n",
    "print(num,'x 11 =',num*11)\n",
    "print(num,'x 12 =',num*12)"
   ]
  },
  {
   "cell_type": "code",
   "execution_count": null,
   "metadata": {
    "colab": {},
    "colab_type": "code",
    "id": "mgsdeCwq9NPb"
   },
   "outputs": [],
   "source": [
    "2. Check whether an alphabet is a vowel or consonant."
   ]
  },
  {
   "cell_type": "code",
   "execution_count": 4,
   "metadata": {
    "colab": {},
    "colab_type": "code",
    "id": "7w-Jb-aA9O8C"
   },
   "outputs": [
    {
     "name": "stdout",
     "output_type": "stream",
     "text": [
      "Enter an alphabet: u\n",
      "It's a vowel\n"
     ]
    }
   ],
   "source": [
    "a = input(\"Enter an alphabet: \")\n",
    "\n",
    "if a == 'a' or 'e' or 'i' or 'o' or 'u': print(\"It's a vowel\")\n",
    "else: print(\"It's a consonent\")"
   ]
  },
  {
   "cell_type": "code",
   "execution_count": null,
   "metadata": {
    "colab": {},
    "colab_type": "code",
    "id": "CvMHTkT39PHe"
   },
   "outputs": [],
   "source": [
    "3. Convert month name to number of days."
   ]
  },
  {
   "cell_type": "code",
   "execution_count": 5,
   "metadata": {
    "colab": {},
    "colab_type": "code",
    "id": "HxFVtJSs9RHd"
   },
   "outputs": [
    {
     "name": "stdout",
     "output_type": "stream",
     "text": [
      "Enter a month name: February\n",
      "28/29 days\n"
     ]
    }
   ],
   "source": [
    "month = input(\"Enter a month name: \")\n",
    "\n",
    "if month == \"January\": print(\"31 days\")\n",
    "elif month == \"February\": print(\"28/29 days\")\n",
    "elif month == \"March\": print(\"31 days\")\n",
    "elif month == \"April\": print(\"30 days\")\n",
    "elif month == \"May\": print(\"31 days\")\n",
    "elif month == \"June\": print(\"30 days\")\n",
    "elif month == \"July\": print(\"31 days\")\n",
    "elif month == \"August\": print(\"31 days\")\n",
    "elif month == \"September\": print(\"30 days\")\n",
    "elif month == \"October\": print(\"31 days\")\n",
    "elif month == \"November\": print(\"30 days\")\n",
    "elif month == \"December\": print(\"31 days\")\n",
    "else: print(\"Invalid input\")"
   ]
  },
  {
   "cell_type": "code",
   "execution_count": null,
   "metadata": {
    "colab": {},
    "colab_type": "code",
    "id": "Vj8yq4F_9RKc"
   },
   "outputs": [],
   "source": [
    "4. Check a triangle is equilateral, isosceles or scalene"
   ]
  },
  {
   "cell_type": "code",
   "execution_count": 6,
   "metadata": {
    "colab": {},
    "colab_type": "code",
    "id": "ZQiFbp5Y9S3X"
   },
   "outputs": [
    {
     "name": "stdout",
     "output_type": "stream",
     "text": [
      "Enter the value of side1:4\n",
      "Enter the value of side2:5\n",
      "Enter the value of side3:6\n",
      "Scalene triangle\n"
     ]
    }
   ],
   "source": [
    "side1 = int(input(\"Enter the value of side1:\"))\n",
    "side2 = int(input(\"Enter the value of side2:\"))\n",
    "side3 = int(input(\"Enter the value of side3:\"))\n",
    "\n",
    "if side1 == side2 or side1 == side3 or side2 == side3:\n",
    "    if side1 == side2 == side3: print(\"Equilateral triangle\")\n",
    "    else: print(\"Isosceles triangle\")\n",
    "        \n",
    "else: print(\"Scalene triangle\")"
   ]
  },
  {
   "cell_type": "code",
   "execution_count": null,
   "metadata": {
    "colab": {},
    "colab_type": "code",
    "id": "Gm91u6ty9TD5"
   },
   "outputs": [],
   "source": [
    "5. Find the median of three values."
   ]
  },
  {
   "cell_type": "code",
   "execution_count": 8,
   "metadata": {
    "colab": {},
    "colab_type": "code",
    "id": "NTb6nvry9X2T"
   },
   "outputs": [
    {
     "name": "stdout",
     "output_type": "stream",
     "text": [
      "Enter first number: 3\n",
      "Enter second number: 9000\n",
      "Enter third number: 500\n",
      "\n",
      "\n",
      " Median: 500\n"
     ]
    }
   ],
   "source": [
    "a = int(input(\"Enter first number: \"))\n",
    "b = int(input(\"Enter second number: \"))\n",
    "c = int(input(\"Enter third number: \"))\n",
    "\n",
    "if a > b:\n",
    "    if a < c:\n",
    "        median = a\n",
    "    elif b > c:\n",
    "        median = b\n",
    "    else:\n",
    "        median = c\n",
    "else:\n",
    "    if a > c:\n",
    "        median = a\n",
    "    elif b < c:\n",
    "        median = b\n",
    "    else:\n",
    "        median = c\n",
    "        \n",
    "print(\"\\n\\n Median:\",median)"
   ]
  },
  {
   "cell_type": "code",
   "execution_count": null,
   "metadata": {
    "colab": {},
    "colab_type": "code",
    "id": "RbGX7lWK9YC2"
   },
   "outputs": [],
   "source": [
    "6. Write a Python program to compute the distance between the points (x1, y1) and (x2,y2),\n",
    "Hint : distance = math.sqrt( ((p1[0]-p2[0])**2)+((p1[1]-p2[1])**2) )"
   ]
  },
  {
   "cell_type": "code",
   "execution_count": 13,
   "metadata": {
    "colab": {},
    "colab_type": "code",
    "id": "B9F8joEv9aDy"
   },
   "outputs": [
    {
     "name": "stdout",
     "output_type": "stream",
     "text": [
      "Enter coordinates of point1: 5 -5\n",
      "Enter coordinates of point2: 5 5\n",
      "10.0\n"
     ]
    }
   ],
   "source": [
    "import math\n",
    "p1 = list(map(int, input(\"Enter coordinates of point1: \").split()))\n",
    "p2 = list(map(int, input(\"Enter coordinates of point2: \").split()))\n",
    "\n",
    "dist = math.sqrt( ((p1[0]-p2[0])**2)+((p1[1]-p2[1])**2) )\n",
    "print(dist)"
   ]
  },
  {
   "cell_type": "markdown",
   "metadata": {
    "colab": {},
    "colab_type": "code",
    "id": "tnX-EAVa9aMU"
   },
   "source": [
    "7. Write a Python program to calculate the hypotenuse of a right-angled triangle, if P stands for Perpendicular, H stands for hypotenuse and b stands for base then the formula is h2 = p2 + b2"
   ]
  },
  {
   "cell_type": "code",
   "execution_count": 15,
   "metadata": {
    "colab": {},
    "colab_type": "code",
    "id": "WE_uiyDQ9hFM"
   },
   "outputs": [
    {
     "name": "stdout",
     "output_type": "stream",
     "text": [
      "Enter the base of the triangle: 7\n",
      "Enter the perpendicular side of the triangle: 24\n",
      "Hypotenuse:  25.0\n"
     ]
    }
   ],
   "source": [
    "b = int(input(\"Enter the base of the triangle: \"))\n",
    "p = int(input(\"Enter the perpendicular side of the triangle: \"))\n",
    "\n",
    "h = math.sqrt(p*p + b*b)\n",
    "\n",
    "print(\"Hypotenuse: \",h)"
   ]
  },
  {
   "cell_type": "code",
   "execution_count": null,
   "metadata": {
    "colab": {},
    "colab_type": "code",
    "id": "_t6JBJ309hPT"
   },
   "outputs": [],
   "source": [
    "8. Write a Python program to convert all units of time into seconds."
   ]
  },
  {
   "cell_type": "code",
   "execution_count": 22,
   "metadata": {
    "colab": {},
    "colab_type": "code",
    "id": "EtWo5s-S9jV8"
   },
   "outputs": [
    {
     "name": "stdout",
     "output_type": "stream",
     "text": [
      "hrs: 1\n",
      "mins: 0\n",
      "secs: 1\n",
      "Time in secs: 3601\n"
     ]
    }
   ],
   "source": [
    "hrs = int(input(\"hrs: \"))\n",
    "mins = int(input(\"mins: \"))\n",
    "secs = int(input(\"secs: \"))\n",
    "\n",
    "time = 0\n",
    "                 \n",
    "if(hrs): time += hrs*60*60\n",
    "\n",
    "if(mins): time += mins*60\n",
    "                 \n",
    "if(secs): time += secs\n",
    "                 \n",
    "print(\"Time in secs:\",time)"
   ]
  },
  {
   "cell_type": "code",
   "execution_count": null,
   "metadata": {
    "colab": {},
    "colab_type": "code",
    "id": "e8jYAW4a9jhT"
   },
   "outputs": [],
   "source": [
    "9. Write a Python program to calculate the sum of the digits in an integer."
   ]
  },
  {
   "cell_type": "code",
   "execution_count": 30,
   "metadata": {
    "colab": {},
    "colab_type": "code",
    "id": "JVOEWgAb9lte"
   },
   "outputs": [
    {
     "name": "stdout",
     "output_type": "stream",
     "text": [
      "Enter a number: 35533632\n",
      "30\n"
     ]
    }
   ],
   "source": [
    "num = int(input(\"Enter a number: \"))\n",
    "sm = 0\n",
    "\n",
    "while(num):\n",
    "    rem = num%10\n",
    "    sm += rem\n",
    "    num = int(num/10)\n",
    "    \n",
    "print(sm)"
   ]
  },
  {
   "cell_type": "code",
   "execution_count": null,
   "metadata": {
    "colab": {},
    "colab_type": "code",
    "id": "-qznybkT9l62"
   },
   "outputs": [],
   "source": [
    "10. Write a Python program to get the ASCII value of a character., Hint : use ord(‘a’)"
   ]
  },
  {
   "cell_type": "code",
   "execution_count": 39,
   "metadata": {
    "colab": {},
    "colab_type": "code",
    "id": "tMBELbEY9oFC"
   },
   "outputs": [
    {
     "name": "stdout",
     "output_type": "stream",
     "text": [
      "Enter any character: !\n",
      "ASCII value of '!' is 33\n"
     ]
    }
   ],
   "source": [
    "ch = input(\"Enter any character: \")\n",
    "print(\"ASCII value of '\"+ch+\"' is\",ord(ch))"
   ]
  },
  {
   "cell_type": "code",
   "execution_count": null,
   "metadata": {
    "colab": {},
    "colab_type": "code",
    "id": "HBczxW_r9oOC"
   },
   "outputs": [],
   "source": [
    "11. Given variables x=30 and y=20, write a Python program to print \"30+20=50\". In terms of %d."
   ]
  },
  {
   "cell_type": "code",
   "execution_count": 40,
   "metadata": {
    "colab": {},
    "colab_type": "code",
    "id": "QokXjk_c9puP"
   },
   "outputs": [
    {
     "name": "stdout",
     "output_type": "stream",
     "text": [
      "30 + 20 = 50\n"
     ]
    }
   ],
   "source": [
    "x = 30\n",
    "y = 20\n",
    "\n",
    "print(x,'+',y,'=',x+y)"
   ]
  },
  {
   "cell_type": "code",
   "execution_count": null,
   "metadata": {
    "colab": {},
    "colab_type": "code",
    "id": "uewAWQKZ9p2A"
   },
   "outputs": [],
   "source": [
    "12. Write a Python program to calculate the area of a parallelogram."
   ]
  },
  {
   "cell_type": "code",
   "execution_count": 41,
   "metadata": {
    "colab": {},
    "colab_type": "code",
    "id": "honSQwJK9rmx"
   },
   "outputs": [
    {
     "name": "stdout",
     "output_type": "stream",
     "text": [
      "Enter the base: 4\n",
      "Enter the height: 5\n",
      "20\n"
     ]
    }
   ],
   "source": [
    "base = int(input(\"Enter the base: \"))\n",
    "height = int(input(\"Enter the height: \"))\n",
    "area =  base*height\n",
    "\n",
    "print(area)"
   ]
  },
  {
   "cell_type": "code",
   "execution_count": null,
   "metadata": {
    "colab": {},
    "colab_type": "code",
    "id": "bumutUvH9rzB"
   },
   "outputs": [],
   "source": [
    "13. Print all the possible outcome of the value of num if num is less then 20 and greater than 10."
   ]
  },
  {
   "cell_type": "code",
   "execution_count": 44,
   "metadata": {
    "colab": {},
    "colab_type": "code",
    "id": "OEc7t4ua9t-E"
   },
   "outputs": [
    {
     "name": "stdout",
     "output_type": "stream",
     "text": [
      "11 12 13 14 15 16 17 18 19 "
     ]
    }
   ],
   "source": [
    "for i in range(11,20):\n",
    "    print(i, end=' ')"
   ]
  },
  {
   "cell_type": "code",
   "execution_count": null,
   "metadata": {
    "colab": {},
    "colab_type": "code",
    "id": "UjfkZxi39uOS"
   },
   "outputs": [],
   "source": [
    "14. Print the outcome form the following:\n",
    "• If name = (‘sample’) , print(name[10] + name[12])"
   ]
  },
  {
   "cell_type": "code",
   "execution_count": 48,
   "metadata": {
    "colab": {},
    "colab_type": "code",
    "id": "_ZOo4WN89wXn"
   },
   "outputs": [
    {
     "name": "stdout",
     "output_type": "stream",
     "text": [
      "string index out of range\n"
     ]
    }
   ],
   "source": [
    "try:\n",
    "    name = 'sample'\n",
    "    print(name[10] + name[12])\n",
    "\n",
    "except Exception as e:\n",
    "    print(e)"
   ]
  },
  {
   "cell_type": "markdown",
   "metadata": {
    "colab": {},
    "colab_type": "code",
    "id": "0OMJeQac90sn"
   },
   "source": [
    "15. Print the calendar of the year 2025."
   ]
  },
  {
   "cell_type": "code",
   "execution_count": 51,
   "metadata": {},
   "outputs": [
    {
     "name": "stdout",
     "output_type": "stream",
     "text": [
      "    January 2025\n",
      "Mo Tu We Th Fr Sa Su\n",
      "       1  2  3  4  5\n",
      " 6  7  8  9 10 11 12\n",
      "13 14 15 16 17 18 19\n",
      "20 21 22 23 24 25 26\n",
      "27 28 29 30 31\n",
      "\n",
      "   February 2025\n",
      "Mo Tu We Th Fr Sa Su\n",
      "                1  2\n",
      " 3  4  5  6  7  8  9\n",
      "10 11 12 13 14 15 16\n",
      "17 18 19 20 21 22 23\n",
      "24 25 26 27 28\n",
      "\n",
      "     March 2025\n",
      "Mo Tu We Th Fr Sa Su\n",
      "                1  2\n",
      " 3  4  5  6  7  8  9\n",
      "10 11 12 13 14 15 16\n",
      "17 18 19 20 21 22 23\n",
      "24 25 26 27 28 29 30\n",
      "31\n",
      "\n",
      "     April 2025\n",
      "Mo Tu We Th Fr Sa Su\n",
      "    1  2  3  4  5  6\n",
      " 7  8  9 10 11 12 13\n",
      "14 15 16 17 18 19 20\n",
      "21 22 23 24 25 26 27\n",
      "28 29 30\n",
      "\n",
      "      May 2025\n",
      "Mo Tu We Th Fr Sa Su\n",
      "          1  2  3  4\n",
      " 5  6  7  8  9 10 11\n",
      "12 13 14 15 16 17 18\n",
      "19 20 21 22 23 24 25\n",
      "26 27 28 29 30 31\n",
      "\n",
      "     June 2025\n",
      "Mo Tu We Th Fr Sa Su\n",
      "                   1\n",
      " 2  3  4  5  6  7  8\n",
      " 9 10 11 12 13 14 15\n",
      "16 17 18 19 20 21 22\n",
      "23 24 25 26 27 28 29\n",
      "30\n",
      "\n",
      "     July 2025\n",
      "Mo Tu We Th Fr Sa Su\n",
      "    1  2  3  4  5  6\n",
      " 7  8  9 10 11 12 13\n",
      "14 15 16 17 18 19 20\n",
      "21 22 23 24 25 26 27\n",
      "28 29 30 31\n",
      "\n",
      "    August 2025\n",
      "Mo Tu We Th Fr Sa Su\n",
      "             1  2  3\n",
      " 4  5  6  7  8  9 10\n",
      "11 12 13 14 15 16 17\n",
      "18 19 20 21 22 23 24\n",
      "25 26 27 28 29 30 31\n",
      "\n",
      "   September 2025\n",
      "Mo Tu We Th Fr Sa Su\n",
      " 1  2  3  4  5  6  7\n",
      " 8  9 10 11 12 13 14\n",
      "15 16 17 18 19 20 21\n",
      "22 23 24 25 26 27 28\n",
      "29 30\n",
      "\n",
      "    October 2025\n",
      "Mo Tu We Th Fr Sa Su\n",
      "       1  2  3  4  5\n",
      " 6  7  8  9 10 11 12\n",
      "13 14 15 16 17 18 19\n",
      "20 21 22 23 24 25 26\n",
      "27 28 29 30 31\n",
      "\n",
      "   November 2025\n",
      "Mo Tu We Th Fr Sa Su\n",
      "                1  2\n",
      " 3  4  5  6  7  8  9\n",
      "10 11 12 13 14 15 16\n",
      "17 18 19 20 21 22 23\n",
      "24 25 26 27 28 29 30\n",
      "\n",
      "   December 2025\n",
      "Mo Tu We Th Fr Sa Su\n",
      " 1  2  3  4  5  6  7\n",
      " 8  9 10 11 12 13 14\n",
      "15 16 17 18 19 20 21\n",
      "22 23 24 25 26 27 28\n",
      "29 30 31\n",
      "\n"
     ]
    }
   ],
   "source": [
    "import calendar\n",
    "\n",
    "for i in range(1,13):\n",
    "        print(calendar.month(2025, i))"
   ]
  }
 ],
 "metadata": {
  "colab": {
   "name": "A4.ipynb",
   "provenance": []
  },
  "kernelspec": {
   "display_name": "Python 3",
   "language": "python",
   "name": "python3"
  },
  "language_info": {
   "codemirror_mode": {
    "name": "ipython",
    "version": 3
   },
   "file_extension": ".py",
   "mimetype": "text/x-python",
   "name": "python",
   "nbconvert_exporter": "python",
   "pygments_lexer": "ipython3",
   "version": "3.7.6"
  },
  "toc": {
   "base_numbering": 1,
   "nav_menu": {},
   "number_sections": true,
   "sideBar": true,
   "skip_h1_title": false,
   "title_cell": "Table of Contents",
   "title_sidebar": "Contents",
   "toc_cell": false,
   "toc_position": {},
   "toc_section_display": true,
   "toc_window_display": false
  }
 },
 "nbformat": 4,
 "nbformat_minor": 1
}
